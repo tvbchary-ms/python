{
 "cells": [
  {
   "cell_type": "markdown",
   "id": "89960c08-fcc6-4767-98ed-aafe95657062",
   "metadata": {},
   "source": [
    "# Simple genetic algorithm"
   ]
  },
  {
   "cell_type": "markdown",
   "id": "3d6ac6a2-1709-4667-bc37-8b1c91c4c2de",
   "metadata": {},
   "source": [
    "## Step-by-step implementation"
   ]
  },
  {
   "cell_type": "markdown",
   "id": "10a11621",
   "metadata": {},
   "source": [
    "##### T V Bhaskarachary (丁陽)\n",
    "##### Computer Science and Information Engineering * Tamkang University, Taiwan"
   ]
  },
  {
   "cell_type": "code",
   "execution_count": null,
   "id": "f3e6756e-cb04-409d-8f57-b37c5ded59c8",
   "metadata": {},
   "outputs": [],
   "source": [
    "import numpy as np\n",
    "#initiate random number generator\n",
    "seed = 1\n",
    "rnge = np.random.default_rng(seed)\n",
    "\n",
    "# population number\n",
    "population_size = 4"
   ]
  },
  {
   "cell_type": "code",
   "execution_count": 28,
   "id": "6a3c58c7-8604-4ed6-b325-0eef628fbf81",
   "metadata": {},
   "outputs": [
    {
     "data": {
      "text/plain": [
       "[array([1, 0, 1, 0, 1], dtype=uint8),\n",
       " array([0, 0, 0, 1, 0], dtype=uint8),\n",
       " array([0, 0, 1, 0, 0], dtype=uint8),\n",
       " array([1, 0, 1, 0, 0], dtype=uint8)]"
      ]
     },
     "execution_count": 28,
     "metadata": {},
     "output_type": "execute_result"
    }
   ],
   "source": [
    "# initialize the population\n",
    "population = list()\n",
    "for i in range(population_size):\n",
    "    gene = rnge.integers(low=0, high=2, size=5, dtype=np.uint8)\n",
    "    population.append(gene)\n",
    "\n",
    "population"
   ]
  },
  {
   "cell_type": "code",
   "execution_count": 29,
   "id": "481de763-5f7b-4f18-8ced-87261804cb06",
   "metadata": {},
   "outputs": [],
   "source": [
    "# generation decoding function\n",
    "def gene_decode(gene):\n",
    "    n = gene.shape[0]\n",
    "    b = 2**np.arange(n)\n",
    "    sum_x = np.sum(b * np.flip(gene))\n",
    "    return sum_x"
   ]
  },
  {
   "cell_type": "code",
   "execution_count": 30,
   "id": "ce3b2193-c5c3-49de-ad05-9ddb80574c80",
   "metadata": {},
   "outputs": [
    {
     "data": {
      "text/plain": [
       "[21, 2, 4, 20]"
      ]
     },
     "execution_count": 30,
     "metadata": {},
     "output_type": "execute_result"
    }
   ],
   "source": [
    "# decode the genotype\n",
    "genotype_decode = [gene_decode(g) for g in population]\n",
    "\n",
    "genotype_decode"
   ]
  },
  {
   "cell_type": "code",
   "execution_count": 31,
   "id": "49441717-2d7c-478c-ac54-f3aa90a8c53b",
   "metadata": {},
   "outputs": [
    {
     "data": {
      "text/plain": [
       "array([441,   4,  16, 400], dtype=int32)"
      ]
     },
     "execution_count": 31,
     "metadata": {},
     "output_type": "execute_result"
    }
   ],
   "source": [
    "# calculate fitness for each individual\n",
    "fitness = np.square(genotype_decode)\n",
    "\n",
    "fitness"
   ]
  },
  {
   "cell_type": "code",
   "execution_count": 32,
   "id": "cb243d2a-688e-4d0a-a392-59d6322d8dfd",
   "metadata": {},
   "outputs": [
    {
     "data": {
      "text/plain": [
       "array([0.51219512, 0.00464576, 0.01858304, 0.46457607])"
      ]
     },
     "execution_count": 32,
     "metadata": {},
     "output_type": "execute_result"
    }
   ],
   "source": [
    "# calculate the probability that an individual will be chosen to become a parent\n",
    "parenting_probability = fitness/np.sum(fitness)\n",
    "\n",
    "parenting_probability"
   ]
  },
  {
   "cell_type": "code",
   "execution_count": 33,
   "id": "e972d110-6c5d-4a6b-a6fd-e6197cd75866",
   "metadata": {},
   "outputs": [
    {
     "data": {
      "text/plain": [
       "array([2.04878049, 0.01858304, 0.07433217, 1.8583043 ])"
      ]
     },
     "execution_count": 33,
     "metadata": {},
     "output_type": "execute_result"
    }
   ],
   "source": [
    "# calculate the expected number of copies of each individual after selection\n",
    "expected_count = fitness/np.mean(fitness)\n",
    "\n",
    "expected_count"
   ]
  },
  {
   "cell_type": "code",
   "execution_count": 34,
   "id": "05747c67-98e3-4b51-9ddf-ca07cdbddf69",
   "metadata": {},
   "outputs": [
    {
     "data": {
      "text/plain": [
       "array([2, 0, 0, 2])"
      ]
     },
     "execution_count": 34,
     "metadata": {},
     "output_type": "execute_result"
    }
   ],
   "source": [
    "# calculate the actual number of copies in the mating pool\n",
    "actual_count = np.around(expected_count, decimals=0).astype(int)\n",
    "while sum(actual_count) < population_size:\n",
    "    actual_count[np.argmax(expected_count)] += 1\n",
    "\n",
    "actual_count"
   ]
  },
  {
   "cell_type": "code",
   "execution_count": 35,
   "id": "6af0d585-7d2c-489d-a9de-24c627cdd4eb",
   "metadata": {},
   "outputs": [
    {
     "data": {
      "text/plain": [
       "[array([1, 0, 1, 0, 1], dtype=uint8),\n",
       " array([1, 0, 1, 0, 1], dtype=uint8),\n",
       " array([1, 0, 1, 0, 0], dtype=uint8),\n",
       " array([1, 0, 1, 0, 0], dtype=uint8)]"
      ]
     },
     "execution_count": 35,
     "metadata": {},
     "output_type": "execute_result"
    }
   ],
   "source": [
    "# form the mating pool\n",
    "mating_pool = list()\n",
    "for i, count in enumerate(actual_count):\n",
    "    for j in range(count):\n",
    "        mating_pool.append(population[i])\n",
    "\n",
    "mating_pool"
   ]
  },
  {
   "cell_type": "code",
   "execution_count": 36,
   "id": "300e5311-2290-4517-a3da-402a7ed30191",
   "metadata": {},
   "outputs": [
    {
     "data": {
      "text/plain": [
       "[(array([1, 0, 1, 0, 1], dtype=uint8), array([1, 0, 1, 0, 1], dtype=uint8)),\n",
       " (array([1, 0, 1, 0, 0], dtype=uint8), array([1, 0, 1, 0, 0], dtype=uint8))]"
      ]
     },
     "execution_count": 36,
     "metadata": {},
     "output_type": "execute_result"
    }
   ],
   "source": [
    "# form pairs at random\n",
    "arranged_mates = list(rnge.permutation(mating_pool))\n",
    "formed_pairs = [(arranged_mates[i], arranged_mates[i+1]) for i in range(len(arranged_mates)) if i%2 == 0]\n",
    "\n",
    "formed_pairs"
   ]
  },
  {
   "cell_type": "code",
   "execution_count": 38,
   "id": "9bf17444-6064-4ff2-a0fd-1940db38c347",
   "metadata": {},
   "outputs": [
    {
     "name": "stdout",
     "output_type": "stream",
     "text": [
      "4\n",
      "4\n"
     ]
    },
    {
     "data": {
      "text/plain": [
       "[array([1, 0, 1, 0, 1], dtype=uint8),\n",
       " array([1, 0, 1, 0, 1], dtype=uint8),\n",
       " array([1, 0, 1, 0, 0], dtype=uint8),\n",
       " array([1, 0, 1, 0, 0], dtype=uint8)]"
      ]
     },
     "execution_count": 38,
     "metadata": {},
     "output_type": "execute_result"
    }
   ],
   "source": [
    "# select the crossover point at random\n",
    "children = list()\n",
    "for pair in formed_pairs:\n",
    "    xover = rnge.integers(1, 5)\n",
    "    print(xover)\n",
    "    child1 = np.concatenate((pair[0][:xover], pair[1][xover:]))\n",
    "    child2 = np.concatenate((pair[1][:xover], pair[0][xover:]))\n",
    "    children.append(child1)\n",
    "    children.append(child2)\n",
    "\n",
    "children"
   ]
  },
  {
   "cell_type": "code",
   "execution_count": 39,
   "id": "6f9e2784-dbe7-4e91-9559-a95c4de515b4",
   "metadata": {},
   "outputs": [
    {
     "data": {
      "text/plain": [
       "[array([1, 0, 1, 0, 1], dtype=uint8),\n",
       " array([1, 0, 1, 0, 1], dtype=uint8),\n",
       " array([1, 0, 1, 0, 0], dtype=uint8),\n",
       " array([1, 0, 1, 0, 0], dtype=uint8)]"
      ]
     },
     "execution_count": 39,
     "metadata": {},
     "output_type": "execute_result"
    }
   ],
   "source": [
    "# mutate the genes with mutation rate 0.001\n",
    "mutation_rate  = 0.001\n",
    "for child in children:\n",
    "    for i, gene in enumerate(child):\n",
    "        if rnge.uniform() < mutation_rate:\n",
    "            print('Flipped in', child, i)\n",
    "            if gene == 0:\n",
    "                child[i] = 1\n",
    "            else:\n",
    "                child[i] = 0\n",
    "\n",
    "children"
   ]
  },
  {
   "cell_type": "code",
   "execution_count": 40,
   "id": "45ae4d00-492a-4375-a6e4-4eafd444bf48",
   "metadata": {},
   "outputs": [
    {
     "data": {
      "text/plain": [
       "[array([1, 0, 1, 0, 1], dtype=uint8),\n",
       " array([1, 0, 1, 0, 1], dtype=uint8),\n",
       " array([1, 0, 1, 0, 0], dtype=uint8),\n",
       " array([1, 0, 1, 0, 0], dtype=uint8)]"
      ]
     },
     "execution_count": 40,
     "metadata": {},
     "output_type": "execute_result"
    }
   ],
   "source": [
    "# replace the population with descendants\n",
    "population = children\n",
    "\n",
    "population"
   ]
  },
  {
   "cell_type": "markdown",
   "id": "49214edb-bc9c-4573-a640-024e07dba8fa",
   "metadata": {},
   "source": [
    "## Putting it all together"
   ]
  },
  {
   "cell_type": "code",
   "execution_count": 41,
   "id": "4c2fa491-5cca-45db-a732-e9bda67bf15b",
   "metadata": {},
   "outputs": [],
   "source": [
    "import numpy as np\n",
    "\n",
    "# initiate random number generator\n",
    "seed = 1\n",
    "rnge = np.random.default_rng(seed)\n",
    "\n",
    "# population number\n",
    "population_size = 4\n",
    "\n",
    "overall_fitness = list()\n",
    "maximum_fitness = list()\n",
    "\n",
    "# initialize the population\n",
    "population = list()\n",
    "for i in range(population_size):\n",
    "    gene = rng.integers(low=0, high=2, size=5, dtype=np.uint8)\n",
    "    population.append(gene)"
   ]
  },
  {
   "cell_type": "code",
   "execution_count": 42,
   "id": "65eb71a7-25ba-477e-84dd-288c25304e83",
   "metadata": {},
   "outputs": [],
   "source": [
    "def sga(population):    \n",
    "    # gene decoding function\n",
    "    def gene_decode(gene):\n",
    "        n = gene.shape[0]\n",
    "        b = 2**np.arange(n)\n",
    "        x = np.sum(b * np.flip(gene))\n",
    "        return x\n",
    "\n",
    "    # decode the genotype\n",
    "    genotype_decode = [gene_decode(g) for g in population]\n",
    "\n",
    "    # calculate fitness for each individual\n",
    "    fitness = np.square(genotype_decode)\n",
    "\n",
    "    # calculate the probability that an individual will be chosen to become a parent\n",
    "    parenting_probability = fitness/np.sum(fitness)\n",
    "\n",
    "    # calculate the expected number of copies of each individual after selection\n",
    "    expected_count = fitness/np.mean(fitness)\n",
    "\n",
    "    # calculate the actual number of copies in the mating pool\n",
    "    actual_count = np.around(expected_count, decimals=0).astype(int)\n",
    "    while sum(actual_count) < population_size:\n",
    "        actual_count[np.argmax(expected_count)] += 1\n",
    "\n",
    "    # form the mating pool\n",
    "    mating_pool = list()\n",
    "    for i, count in enumerate(actual_count):\n",
    "        for j in range(count):\n",
    "            mating_pool.append(population[i])\n",
    "\n",
    "    # form pairs at random\n",
    "    arranged_mates = list(rnge.permutation(mating_pool))\n",
    "    formed_pairs = [(arranged_mates[i], arranged_mates[i+1]) for i in range(len(arranged_mates)) if i%2 == 0]\n",
    "\n",
    "    # select the crossover point at random\n",
    "    children = list()\n",
    "    for pair in formed_pairs:\n",
    "        xover = rnge.integers(1, 5)\n",
    "        child1 = np.concatenate((pair[0][:xover], pair[1][xover:]))\n",
    "        child2 = np.concatenate((pair[1][:xover], pair[0][xover:]))\n",
    "        children.append(child1)\n",
    "        children.append(child2)\n",
    "\n",
    "    # mutate the genes with mutation rate 0.001\n",
    "    mutation_rate  = 0.001\n",
    "    for child in children:\n",
    "        for i, gene in enumerate(child):\n",
    "            if rng.uniform() < mutation_rate:\n",
    "                if gene == 0:\n",
    "                    child[i] = 1\n",
    "                else:\n",
    "                    child[i] = 0\n",
    "\n",
    "    # replace the population with descendants\n",
    "    population = children\n",
    "\n",
    "    # decode the new genotype\n",
    "    genotype_decode = [gene_decode(g) for g in population]\n",
    "\n",
    "    # calculate fitness for each new individual\n",
    "    fitness = np.square(genotype_decode)\n",
    "\n",
    "    return (population, fitness)"
   ]
  },
  {
   "cell_type": "code",
   "execution_count": 43,
   "id": "37c1cce7-f3c6-4f25-a032-7fc2baf8d221",
   "metadata": {},
   "outputs": [],
   "source": [
    "for i in range(10):\n",
    "    population, fitness = sga(population)\n",
    "    overall_fitness.append(fitness.sum())\n",
    "    maximum_fitness.append(fitness.max())"
   ]
  },
  {
   "cell_type": "code",
   "execution_count": 44,
   "id": "9fc1b1a8-6303-41fe-99fc-1737ab549c9a",
   "metadata": {},
   "outputs": [
    {
     "data": {
      "text/plain": [
       "[1234, 1234, 1234, 1234, 1230, 1230, 1230, 1230, 1230, 1230]"
      ]
     },
     "execution_count": 44,
     "metadata": {},
     "output_type": "execute_result"
    }
   ],
   "source": [
    "overall_fitness"
   ]
  },
  {
   "cell_type": "code",
   "execution_count": 45,
   "id": "7775f7df-d444-4ef3-a027-98a7dff6b286",
   "metadata": {},
   "outputs": [
    {
     "data": {
      "text/plain": [
       "[361, 361, 361, 361, 361, 361, 361, 361, 361, 361]"
      ]
     },
     "execution_count": 45,
     "metadata": {},
     "output_type": "execute_result"
    }
   ],
   "source": [
    "maximum_fitness"
   ]
  },
  {
   "cell_type": "code",
   "execution_count": 46,
   "id": "5dbf6e7f-0de7-4a69-8ea6-451f6c9419a2",
   "metadata": {},
   "outputs": [
    {
     "data": {
      "text/plain": [
       "[array([1, 0, 0, 0, 1], dtype=uint8),\n",
       " array([1, 0, 0, 1, 1], dtype=uint8),\n",
       " array([1, 0, 0, 1, 0], dtype=uint8),\n",
       " array([1, 0, 0, 0, 0], dtype=uint8)]"
      ]
     },
     "execution_count": 46,
     "metadata": {},
     "output_type": "execute_result"
    }
   ],
   "source": [
    "population"
   ]
  }
 ],
 "metadata": {
  "kernelspec": {
   "display_name": "Python 3.9.12 ('base')",
   "language": "python",
   "name": "python3"
  },
  "language_info": {
   "codemirror_mode": {
    "name": "ipython",
    "version": 3
   },
   "file_extension": ".py",
   "mimetype": "text/x-python",
   "name": "python",
   "nbconvert_exporter": "python",
   "pygments_lexer": "ipython3",
   "version": "3.9.12"
  },
  "vscode": {
   "interpreter": {
    "hash": "f08154012ddadd8e950e6e9e035c7a7b32c136e7647e9b7c77e02eb723a8bedb"
   }
  }
 },
 "nbformat": 4,
 "nbformat_minor": 5
}
