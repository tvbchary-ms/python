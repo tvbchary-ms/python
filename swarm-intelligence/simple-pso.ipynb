{
 "cells": [
  {
   "cell_type": "markdown",
   "id": "195656c5-8c99-401f-a7de-e0d0a5cd1765",
   "metadata": {},
   "source": [
    "# Simple Particle Swarm Optimization Algorithm\n",
    "\n",
    "## Step-by-step implementation\n",
    "##### T V Bhaskarachary (丁陽)\n",
    "##### Computer Science and Information Engineering * Tamkang University Taiwan"
   ]
  },
  {
   "cell_type": "code",
   "execution_count": 1,
   "id": "40743c21-16fa-405e-9b90-08da0fb4b04c",
   "metadata": {},
   "outputs": [],
   "source": [
    "import numpy as np"
   ]
  },
  {
   "cell_type": "code",
   "execution_count": 2,
   "id": "6f800298-77f3-4564-ab34-de3dcff4867c",
   "metadata": {},
   "outputs": [],
   "source": [
    "# initiate random number generator\n",
    "seed = 0\n",
    "rng = np.random.default_rng(seed)\n",
    "\n",
    "# algorithm constants\n",
    "iterations = 120\n",
    "inertia = 0.7 # inertia weight\n",
    "inertia_max = 0.9\n",
    "inertia_min = 0.4\n",
    "c1 = 2.0 # cognition constant\n",
    "c1_max = 2.5\n",
    "c1_min = 1\n",
    "c2 = 2.0 # social constant\n",
    "c2_max = 2.5\n",
    "c2_min = 1\n",
    "swarm_size = 49\n",
    "\n",
    "# fitness evaluation\n",
    "def get_fitness(x, y):\n",
    "    return -np.square(x - 10) - np.square(y - 20)\n",
    "\n",
    "# pbest is the best position of a particle\n",
    "# swarm tensor third dimension construct:\n",
    "# 0: x\n",
    "# 1: y\n",
    "# 2: vx\n",
    "# 3: vy\n",
    "# 4: pbest\n",
    "# 5: pbestx\n",
    "# 6: pbesty\n",
    "swarm = np.zeros((iterations+1, swarm_size, 7))\n",
    "\n",
    "# gbest is the best position of the swarm\n",
    "# gbest second dimension construct:\n",
    "# 0: gbestval\n",
    "# 1: gbestx\n",
    "# 2: gbesty\n",
    "gbest = np.zeros((iterations+1, 3))\n",
    "\n",
    "# initialize particles with random position vectors\n",
    "# zero iteration => initialization\n",
    "# initial velocity is zero\n",
    "swarm[0,:,:2] = rng.uniform(low=-100, high=100, size=(swarm_size, 2))\n",
    "\n",
    "# initialize pbest values and positions\n",
    "swarm[0,:,4] = get_fitness(swarm[0,:,0], swarm[0,:,1])\n",
    "swarm[0,:,5:7] = swarm[0,:,:2]\n",
    "\n",
    "# initialize gbest values and position\n",
    "pid = swarm[0,:,4].argmax()\n",
    "gbest[0] = swarm[0,pid,4:7]"
   ]
  },
  {
   "cell_type": "code",
   "execution_count": 3,
   "id": "faab6190-acc0-4d43-b9da-e4f713915e19",
   "metadata": {},
   "outputs": [],
   "source": [
    "for i in range(1, swarm.shape[0]):\n",
    "    \n",
    "    # update inertia\n",
    "    inertia = inertia_max - (inertia_max - inertia_min)*i/iterations\n",
    "    \n",
    "    # update learning factors\n",
    "    c1 = c1_max - (c1_max - c1_min)*i/iterations\n",
    "    c2 = c2_max - (c2_max - c2_min)*i/iterations\n",
    "    \n",
    "    # update velocity\n",
    "    swarm[i,:,2:4] = inertia * swarm[i-1,:,2:4] +\\\n",
    "        c1 * 0.1*rng.uniform(low=0, high=1, size=(swarm_size, 2)) * (swarm[i-1,:,5:7] - swarm[i-1,:,:2]) +\\\n",
    "        c2 * 0.1*rng.uniform(low=0, high=1, size=(swarm_size, 2)) * (gbest[i-1,1:3] - swarm[i-1,:,:2])\n",
    "    \n",
    "    # update current position\n",
    "    swarm[i,:,:2] = swarm[i-1,:,:2] + swarm[i,:,2:4]\n",
    "    \n",
    "    # evaluate the fitness\n",
    "    fitness = get_fitness(swarm[i,:,0], swarm[i,:,1])\n",
    "    \n",
    "    # update particle best value and position\n",
    "    swarm[i,:,4] = np.where(fitness > swarm[i-1,:,4], fitness, swarm[i-1,:,4])\n",
    "    swarm[i,:,5] = np.where(fitness > swarm[i-1,:,4], swarm[i,:,0], swarm[i-1,:,5])\n",
    "    swarm[i,:,6] = np.where(fitness > swarm[i-1,:,4], swarm[i,:,1], swarm[i-1,:,6])\n",
    "    \n",
    "    # update the swarm best position\n",
    "    pid = swarm[i,:,4].argmax()\n",
    "    gbest[i] = swarm[i,pid,4:7]"
   ]
  },
  {
   "cell_type": "code",
   "execution_count": 4,
   "id": "223bb51d-3579-483c-9e38-f81745205c94",
   "metadata": {},
   "outputs": [
    {
     "name": "stdout",
     "output_type": "stream",
     "text": [
      "-1.8228855498877719e-16\n"
     ]
    }
   ],
   "source": [
    "gid = gbest[:,0].argmax()\n",
    "print(gbest[gid,0]) # the best fitness value"
   ]
  },
  {
   "cell_type": "code",
   "execution_count": 5,
   "id": "733e959e-d62d-447c-b991-8cfff489b7a3",
   "metadata": {},
   "outputs": [
    {
     "name": "stdout",
     "output_type": "stream",
     "text": [
      "[ 9.99999999 20.        ]\n"
     ]
    }
   ],
   "source": [
    "print(gbest[gid,1:3]) # gbest (x,y) coordinates"
   ]
  },
  {
   "cell_type": "code",
   "execution_count": 6,
   "id": "8b456f61-7c2e-452b-83ad-ee2079000ccc",
   "metadata": {},
   "outputs": [
    {
     "data": {
      "text/plain": [
       "[<matplotlib.lines.Line2D at 0x14fccaad2e0>]"
      ]
     },
     "execution_count": 6,
     "metadata": {},
     "output_type": "execute_result"
    },
    {
     "data": {
      "image/png": "[encoded data removed]",
      "text/plain": [
       "<Figure size 432x288 with 1 Axes>"
      ]
     },
     "metadata": {
      "needs_background": "light"
     },
     "output_type": "display_data"
    }
   ],
   "source": [
    "import matplotlib.pyplot as plt\n",
    "%matplotlib inline\n",
    "\n",
    "plt.plot(range(1,gbest.shape[0]),gbest[1:,0])"
   ]
  },
  {
   "cell_type": "code",
   "execution_count": 7,
   "id": "3dba2056-4e76-40b1-8d78-b7137862c750",
   "metadata": {},
   "outputs": [],
   "source": [
    "from matplotlib.animation import FuncAnimation\n",
    "# !pip install PyQt5\n",
    "%matplotlib qt\n",
    "\n",
    "fig, ax = plt.subplots(figsize=(7,7))\n",
    "ax.set_xlim(-100, 100)\n",
    "ax.set_ylim(-100, 100)\n",
    "scatter = ax.scatter(swarm[0,:,0], swarm[0,:,1])\n",
    "\n",
    "def animate(i):\n",
    "    data = np.vstack((swarm[i+1,:,0], swarm[i+1,:,1])).T\n",
    "    scatter.set_offsets(data)\n",
    "    return scatter,\n",
    "    \n",
    "animation = FuncAnimation(fig, animate, frames=iterations, interval=100, blit=False, repeat=False)\n",
    "# animation.save('animation.mp4')\n",
    "plt.show()"
   ]
  },
  {
   "cell_type": "code",
   "execution_count": null,
   "id": "309f64c7-d54f-407a-89d5-e4ea6d378808",
   "metadata": {},
   "outputs": [],
   "source": []
  }
 ],
 "metadata": {
  "kernelspec": {
   "display_name": "Python 3 (ipykernel)",
   "language": "python",
   "name": "python3"
  },
  "language_info": {
   "codemirror_mode": {
    "name": "ipython",
    "version": 3
   },
   "file_extension": ".py",
   "mimetype": "text/x-python",
   "name": "python",
   "nbconvert_exporter": "python",
   "pygments_lexer": "ipython3",
   "version": "3.8.10"
  }
 },
 "nbformat": 4,
 "nbformat_minor": 5
}
